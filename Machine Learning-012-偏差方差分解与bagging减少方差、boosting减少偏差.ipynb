{
 "cells": [
  {
   "cell_type": "code",
   "execution_count": 1,
   "metadata": {},
   "outputs": [],
   "source": [
    "'''code分为6块：\n",
    "1,加载数据；\n",
    "2,划分训练集，测试集；\n",
    "3,线性回归模型；\n",
    "4,Bagging线性模型；\n",
    "5,AdaBoost算法的线性模型；\n",
    "6,GBDT回归。'''\n",
    "\n",
    "\n",
    "import numpy as np\n",
    "import matplotlib as mpl\n",
    "import matplotlib.pyplot as plt\n",
    "import pandas as pd\n",
    "import warnings\n",
    "import sklearn\n",
    "from sklearn.linear_model import LinearRegression\n",
    "from sklearn.model_selection import train_test_split\n",
    "from sklearn.ensemble import BaggingRegressor\n",
    "def notEmpty(s):\n",
    "    return s != ''\n",
    "\n",
    "# 1,加载数据：\n",
    "names = ['CRIM','ZN', 'INDUS','CHAS','NOX','RM','AGE','DIS','RAD','TAX','PTRATIO','B','LSTAT']\n",
    "fd = pd.read_csv('../DataSets/boston_housing.data', header=None)\n",
    "data = np.empty((len(fd), 14))\n",
    "for i, d in enumerate(fd.values):\n",
    "    d = map(float, filter(notEmpty, d[0].split(' ')))\n",
    "    data[i] = list(d)\n",
    "\n",
    "x, y = np.split(data, (13,), axis=1)\n",
    "y = y.ravel()"
   ]
  },
  {
   "cell_type": "code",
   "execution_count": 2,
   "metadata": {},
   "outputs": [
    {
     "name": "stderr",
     "output_type": "stream",
     "text": [
      "/home/jesse/anaconda3/envs/py36/lib/python3.6/site-packages/sklearn/model_selection/_split.py:2179: FutureWarning: From version 0.21, test_size will always complement train_size unless both are specified.\n",
      "  FutureWarning)\n"
     ]
    }
   ],
   "source": [
    "# 2，划分训练集，测试集：\n",
    "x_train1, x_test1, y_train1, y_test1 = train_test_split(x, y, train_size=0.8, random_state=14)\n",
    "x_train, x_test, y_train, y_test = x_train1, x_test1, y_train1, y_test1"
   ]
  },
  {
   "cell_type": "code",
   "execution_count": 3,
   "metadata": {},
   "outputs": [
    {
     "name": "stdout",
     "output_type": "stream",
     "text": [
      "lr: 0.6177265992293737\n"
     ]
    }
   ],
   "source": [
    "# 3,线性回归模型：\n",
    "lr = LinearRegression()\n",
    "lr.fit(x_train,y_train)\n",
    "lr_y_test_hat = lr.predict(x_test)\n",
    "lr_score = lr.score(x_test, y_test)\n",
    "print (\"lr:\", lr_score)"
   ]
  },
  {
   "cell_type": "code",
   "execution_count": 4,
   "metadata": {},
   "outputs": [
    {
     "name": "stdout",
     "output_type": "stream",
     "text": [
      "Bagging: 0.6274480726092534\n"
     ]
    }
   ],
   "source": [
    "# 4，Bagging线性模型：\n",
    "bg = BaggingRegressor(LinearRegression(), n_estimators=100, max_samples=0.7, max_features=0.8,random_state=28)\n",
    "bg.fit(x_train, y_train)\n",
    "bg_y_test_hat = bg.predict(x_test)\n",
    "bg_score = bg.score(x_test, y_test)\n",
    "print (\"Bagging:\", bg_score)"
   ]
  },
  {
   "cell_type": "code",
   "execution_count": 5,
   "metadata": {},
   "outputs": [
    {
     "name": "stdout",
     "output_type": "stream",
     "text": [
      "daBoost: 0.6148348568514753\n"
     ]
    }
   ],
   "source": [
    "# 5，AdaBoost算法的线性模型：\n",
    "from sklearn.ensemble import AdaBoostRegressor\n",
    "adr = AdaBoostRegressor(LinearRegression(), n_estimators=50, learning_rate=0.0001, random_state=28)\n",
    "adr.fit(x_train, y_train)\n",
    "adr_y_test_hat = adr.predict(x_test)\n",
    "adr_score = adr.score(x_test, y_test)\n",
    "print (\"daBoost:\", adr_score)"
   ]
  },
  {
   "cell_type": "code",
   "execution_count": 6,
   "metadata": {},
   "outputs": [
    {
     "name": "stdout",
     "output_type": "stream",
     "text": [
      "GBDT: 0.8668154381095832\n"
     ]
    }
   ],
   "source": [
    "# 6，GBDT回归：\n",
    "from sklearn.ensemble import GradientBoostingRegressor\n",
    "gbdt = GradientBoostingRegressor(n_estimators=50, learning_rate=0.1, random_state=28)\n",
    "gbdt.fit(x_train, y_train)\n",
    "gbdt_y_test_hat = gbdt.predict(x_test)\n",
    "gbdt_score = gbdt.score(x_test, y_test)\n",
    "print (\"GBDT:\", gbdt_score)"
   ]
  },
  {
   "cell_type": "code",
   "execution_count": null,
   "metadata": {},
   "outputs": [],
   "source": []
  }
 ],
 "metadata": {
  "kernelspec": {
   "display_name": "py36",
   "language": "python",
   "name": "py36"
  },
  "language_info": {
   "codemirror_mode": {
    "name": "ipython",
    "version": 3
   },
   "file_extension": ".py",
   "mimetype": "text/x-python",
   "name": "python",
   "nbconvert_exporter": "python",
   "pygments_lexer": "ipython3",
   "version": "3.6.7"
  }
 },
 "nbformat": 4,
 "nbformat_minor": 2
}
