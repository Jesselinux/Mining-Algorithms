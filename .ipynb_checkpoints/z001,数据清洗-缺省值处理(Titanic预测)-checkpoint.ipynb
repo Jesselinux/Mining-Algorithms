{
 "cells": [
  {
   "cell_type": "code",
   "execution_count": 1,
   "metadata": {},
   "outputs": [
    {
     "name": "stdout",
     "output_type": "stream",
     "text": [
      "(3000, 6) \n",
      " id              int64\n",
      "gender         object\n",
      "age           float64\n",
      "edu            object\n",
      "custom_amt     object\n",
      "order_date     object\n",
      "dtype: object\n"
     ]
    },
    {
     "data": {
      "text/html": [
       "<div>\n",
       "<style scoped>\n",
       "    .dataframe tbody tr th:only-of-type {\n",
       "        vertical-align: middle;\n",
       "    }\n",
       "\n",
       "    .dataframe tbody tr th {\n",
       "        vertical-align: top;\n",
       "    }\n",
       "\n",
       "    .dataframe thead th {\n",
       "        text-align: right;\n",
       "    }\n",
       "</style>\n",
       "<table border=\"1\" class=\"dataframe\">\n",
       "  <thead>\n",
       "    <tr style=\"text-align: right;\">\n",
       "      <th></th>\n",
       "      <th>id</th>\n",
       "      <th>gender</th>\n",
       "      <th>age</th>\n",
       "      <th>edu</th>\n",
       "      <th>custom_amt</th>\n",
       "      <th>order_date</th>\n",
       "    </tr>\n",
       "  </thead>\n",
       "  <tbody>\n",
       "    <tr>\n",
       "      <th>0</th>\n",
       "      <td>890</td>\n",
       "      <td>female</td>\n",
       "      <td>43.0</td>\n",
       "      <td>NaN</td>\n",
       "      <td>￥2177.94</td>\n",
       "      <td>2018年12月25日</td>\n",
       "    </tr>\n",
       "    <tr>\n",
       "      <th>1</th>\n",
       "      <td>2391</td>\n",
       "      <td>male</td>\n",
       "      <td>52.0</td>\n",
       "      <td>NaN</td>\n",
       "      <td>￥2442.18</td>\n",
       "      <td>2017年5月24日</td>\n",
       "    </tr>\n",
       "    <tr>\n",
       "      <th>2</th>\n",
       "      <td>2785</td>\n",
       "      <td>male</td>\n",
       "      <td>39.0</td>\n",
       "      <td>NaN</td>\n",
       "      <td>￥849.79</td>\n",
       "      <td>2018年5月15日</td>\n",
       "    </tr>\n",
       "    <tr>\n",
       "      <th>3</th>\n",
       "      <td>1361</td>\n",
       "      <td>female</td>\n",
       "      <td>26.0</td>\n",
       "      <td>NaN</td>\n",
       "      <td>￥2482.22</td>\n",
       "      <td>2018年5月16日</td>\n",
       "    </tr>\n",
       "    <tr>\n",
       "      <th>4</th>\n",
       "      <td>888</td>\n",
       "      <td>female</td>\n",
       "      <td>61.0</td>\n",
       "      <td>本科</td>\n",
       "      <td>￥2027.9</td>\n",
       "      <td>2018年1月21日</td>\n",
       "    </tr>\n",
       "  </tbody>\n",
       "</table>\n",
       "</div>"
      ],
      "text/plain": [
       "     id  gender   age  edu custom_amt   order_date\n",
       "0   890  female  43.0  NaN   ￥2177.94  2018年12月25日\n",
       "1  2391    male  52.0  NaN   ￥2442.18   2017年5月24日\n",
       "2  2785    male  39.0  NaN    ￥849.79   2018年5月15日\n",
       "3  1361  female  26.0  NaN   ￥2482.22   2018年5月16日\n",
       "4   888  female  61.0   本科    ￥2027.9   2018年1月21日"
      ]
     },
     "execution_count": 1,
     "metadata": {},
     "output_type": "execute_result"
    }
   ],
   "source": [
    "# 1,加载数据：\n",
    "import pandas as pd\n",
    "\n",
    "data = pd.read_excel('../DataSets/test_data.xlsx')\n",
    "\n",
    "print(data.shape, '\\n', data.dtypes)\n",
    "data.head()"
   ]
  },
  {
   "cell_type": "code",
   "execution_count": 2,
   "metadata": {},
   "outputs": [
    {
     "data": {
      "text/plain": [
       "id                    object\n",
       "gender                object\n",
       "age                  float64\n",
       "edu                   object\n",
       "custom_amt           float64\n",
       "order_date    datetime64[ns]\n",
       "dtype: object"
      ]
     },
     "execution_count": 2,
     "metadata": {},
     "output_type": "execute_result"
    }
   ],
   "source": [
    "# 2,属性类型转换：\n",
    "data['id'] = data['id'].astype(str)  # 数值型 转 字符型\n",
    "\n",
    "data['custom_amt'] = data['custom_amt'].str[1:].astype(float)  # 字符型转数值型：去调dollar符，规范化数据\n",
    "\n",
    "data['order_date'] = pd.to_datetime(data['order_date'], format = '%Y年%m月%d日')   # 字符型 转 日期型\n",
    "data.dtypes"
   ]
  },
  {
   "cell_type": "code",
   "execution_count": 3,
   "metadata": {},
   "outputs": [
    {
     "name": "stdout",
     "output_type": "stream",
     "text": [
      "False\n",
      "  name gender  age  income edu\n",
      "0   张三      男   29   15600  本科\n",
      "1   李四      男   25   14000  本科\n",
      "2   王二      女   27   18500  硕士\n",
      "3   张三      男   29   15600  本科\n",
      "4   赵五      女   21   10500  大专\n",
      "5   丁一      女   22   18000  本科\n",
      "6   王二      男   27   13000  硕士\n",
      "True\n"
     ]
    },
    {
     "data": {
      "text/html": [
       "<div>\n",
       "<style scoped>\n",
       "    .dataframe tbody tr th:only-of-type {\n",
       "        vertical-align: middle;\n",
       "    }\n",
       "\n",
       "    .dataframe tbody tr th {\n",
       "        vertical-align: top;\n",
       "    }\n",
       "\n",
       "    .dataframe thead th {\n",
       "        text-align: right;\n",
       "    }\n",
       "</style>\n",
       "<table border=\"1\" class=\"dataframe\">\n",
       "  <thead>\n",
       "    <tr style=\"text-align: right;\">\n",
       "      <th></th>\n",
       "      <th>name</th>\n",
       "      <th>gender</th>\n",
       "      <th>age</th>\n",
       "      <th>income</th>\n",
       "      <th>edu</th>\n",
       "    </tr>\n",
       "  </thead>\n",
       "  <tbody>\n",
       "    <tr>\n",
       "      <th>0</th>\n",
       "      <td>张三</td>\n",
       "      <td>男</td>\n",
       "      <td>29</td>\n",
       "      <td>15600</td>\n",
       "      <td>本科</td>\n",
       "    </tr>\n",
       "    <tr>\n",
       "      <th>1</th>\n",
       "      <td>李四</td>\n",
       "      <td>男</td>\n",
       "      <td>25</td>\n",
       "      <td>14000</td>\n",
       "      <td>本科</td>\n",
       "    </tr>\n",
       "    <tr>\n",
       "      <th>2</th>\n",
       "      <td>王二</td>\n",
       "      <td>女</td>\n",
       "      <td>27</td>\n",
       "      <td>18500</td>\n",
       "      <td>硕士</td>\n",
       "    </tr>\n",
       "    <tr>\n",
       "      <th>4</th>\n",
       "      <td>赵五</td>\n",
       "      <td>女</td>\n",
       "      <td>21</td>\n",
       "      <td>10500</td>\n",
       "      <td>大专</td>\n",
       "    </tr>\n",
       "    <tr>\n",
       "      <th>5</th>\n",
       "      <td>丁一</td>\n",
       "      <td>女</td>\n",
       "      <td>22</td>\n",
       "      <td>18000</td>\n",
       "      <td>本科</td>\n",
       "    </tr>\n",
       "  </tbody>\n",
       "</table>\n",
       "</div>"
      ],
      "text/plain": [
       "  name gender  age  income edu\n",
       "0   张三      男   29   15600  本科\n",
       "1   李四      男   25   14000  本科\n",
       "2   王二      女   27   18500  硕士\n",
       "4   赵五      女   21   10500  大专\n",
       "5   丁一      女   22   18000  本科"
      ]
     },
     "execution_count": 3,
     "metadata": {},
     "output_type": "execute_result"
    }
   ],
   "source": [
    "# 3，判断数据中是否存在重复观测\n",
    "print(data.duplicated().any())\n",
    "\n",
    "df = pd.DataFrame(dict(name = ['张三','李四','王二','张三','赵五','丁一','王二'],\n",
    "                      gender = ['男','男','女','男','女','女','男'],\n",
    "                      age = [29,25,27,29,21,22,27],\n",
    "                      income = [15600,14000,18500,15600,10500,18000,13000],\n",
    "                      edu = ['本科','本科','硕士','本科','大专','本科','硕士']))\n",
    "print(df)\n",
    "print(df.duplicated().any())\n",
    "df.drop_duplicates()   # 默认情况下，对数据的所有变量进行判断\n",
    "df.drop_duplicates(subset=['name','age'], inplace=True)   # inplace=True:改变原有数据,默认为False.\n",
    "df"
   ]
  },
  {
   "cell_type": "code",
   "execution_count": 4,
   "metadata": {},
   "outputs": [
    {
     "name": "stdout",
     "output_type": "stream",
     "text": [
      "id            0.000000\n",
      "gender        0.045333\n",
      "age           0.033333\n",
      "edu           0.642333\n",
      "custom_amt    0.000000\n",
      "order_date    0.000000\n",
      "dtype: float64 \n",
      "***\n",
      " 0.6746666666666666\n"
     ]
    }
   ],
   "source": [
    "# 4,缺省值判断：\n",
    "data.isnull().any(axis = 0)                 # 判断各变量（列）中是否存在缺失值\n",
    "\n",
    "data.isnull().sum(axis = 0)                 # 各变量中缺失值的数量\n",
    "\n",
    "res1 = data.isnull().sum(axis = 0)/data.shape[0]   # 各变量中缺失值的比例\n",
    "\n",
    "\n",
    "data.isnull().any(axis = 1).any()          # 判断数据行中是否存在缺失值\n",
    "\n",
    "data.isnull().any(axis = 1).sum()          # 缺失观测的行数\n",
    "\n",
    "res2 = data.isnull().any(axis = 1).sum()/data.shape[0] # 缺失观测的比例\n",
    "print(res1, '\\n***\\n',res2)"
   ]
  },
  {
   "cell_type": "code",
   "execution_count": 5,
   "metadata": {},
   "outputs": [
    {
     "data": {
      "text/plain": [
       "id            0\n",
       "gender        0\n",
       "age           0\n",
       "custom_amt    0\n",
       "order_date    0\n",
       "dtype: int64"
      ]
     },
     "execution_count": 5,
     "metadata": {},
     "output_type": "execute_result"
    }
   ],
   "source": [
    "# 5，缺省值处理：\n",
    "data.drop(labels='edu', axis = 1, inplace=True)   # 删除字段： 删除缺失率非常高的edu变量，即删除列\n",
    "\n",
    "data_new = data.drop(labels=data.index[data['age'].isnull()], axis = 0)  # 删除age变量中所对应的缺失观测样本\n",
    "\n",
    "# 替换法处理缺失值\n",
    "data.fillna(value = {'gender': data['gender'].mode()[0],   # 众数替换缺失值\n",
    "                 'age':data['age'].mean()                   # 平均值替换缺失值\n",
    "                 },\n",
    "          inplace = True                                     # 原地修改原始数据\n",
    "          )\n",
    "\n",
    "data.isnull().sum(axis = 0)                                 # 再次查看各变量的缺失比例"
   ]
  },
  {
   "cell_type": "code",
   "execution_count": 8,
   "metadata": {},
   "outputs": [
    {
     "name": "stdout",
     "output_type": "stream",
     "text": [
      "(712, 7) (177, 7)\n"
     ]
    },
    {
     "data": {
      "text/plain": [
       "array([28.4  , 33.2  , 18.2  , 32.8  , 24.   , 33.   , 21.584, 19.6  ,\n",
       "       24.4  , 33.   , 30.3  , 30.   , 19.6  , 26.4  , 49.4  , 47.3  ,\n",
       "       14.534, 33.   , 30.3  , 19.6  , 30.3  , 30.3  , 33.   , 27.6  ,\n",
       "       31.4  , 30.3  , 49.   , 18.2  , 26.7  , 34.8  , 30.   , 37.   ,\n",
       "       33.2  , 56.6  , 31.8  , 37.   , 32.8  , 45.4  , 28.8  , 49.   ,\n",
       "       19.6  , 37.   , 23.8  , 33.   , 29.6  , 27.9  , 25.9  , 28.8  ,\n",
       "       34.8  , 35.4  , 49.   , 27.9  , 41.4  , 19.6  , 36.6  , 56.6  ,\n",
       "       47.3  , 43.4  , 19.6  , 24.4  , 29.8  , 30.3  , 29.   , 37.   ,\n",
       "       23.2  , 40.4  , 33.   , 24.   , 49.4  , 32.8  , 24.   , 24.   ,\n",
       "       30.   , 18.2  , 19.6  , 36.4  , 33.   , 39.9  , 29.6  , 33.   ,\n",
       "       28.8  , 36.6  , 22.8  , 33.   , 34.8  , 49.   , 24.   , 26.   ,\n",
       "       26.   , 30.3  , 45.   , 49.   , 30.3  , 36.6  , 39.9  , 34.8  ,\n",
       "       44.4  , 36.6  , 29.6  , 26.   , 28.6  , 27.7  , 27.9  , 41.4  ,\n",
       "       30.3  , 32.6  , 32.8  , 26.8  , 30.8  , 26.8  , 22.8  , 28.6  ,\n",
       "       36.8  , 28.   , 30.8  , 49.   , 30.3  , 22.8  , 26.8  , 19.6  ,\n",
       "       26.3  , 30.   , 30.3  , 18.484, 38.   , 32.8  , 33.   , 26.8  ,\n",
       "       28.6  , 28.8  , 49.   , 39.9  , 34.4  , 30.   , 29.6  , 28.6  ,\n",
       "       33.   , 21.   , 33.   , 34.4  , 40.8  , 36.6  , 22.8  , 29.6  ,\n",
       "       19.6  , 14.534, 57.6  , 26.5  , 19.6  , 36.6  , 33.   , 33.   ,\n",
       "       43.4  , 28.6  , 41.4  , 31.8  , 32.8  , 49.   , 39.9  , 26.8  ,\n",
       "       49.   , 37.   , 45.   , 34.4  , 32.6  , 33.6  , 27.6  , 26.8  ,\n",
       "       30.3  , 43.4  , 37.   , 39.8  , 26.8  , 37.   , 24.2  , 33.   ,\n",
       "       26.8  ])"
      ]
     },
     "execution_count": 8,
     "metadata": {},
     "output_type": "execute_result"
    }
   ],
   "source": [
    "# 6，Titanic预测项目实践：\n",
    "\n",
    "# 6.1，加载数据，缺省值处理：\n",
    "titanic = pd.read_csv('../DataSets/Titanic/train.csv')\n",
    "\n",
    "titanic.drop(labels='Cabin', axis = 1, inplace=True)  # 删除缺失严重的Cabin变量，即删除列\n",
    "\n",
    "titanic.dropna(subset=['Embarked'], inplace=True)   # 根据Embarked变量，删除对应的缺失行\n",
    "\n",
    "titanic.drop(labels=['PassengerId','Name','Ticket','Embarked'], axis = 1, inplace=True)  # 删除无关紧要的变量（这些变量对后面预测年龄没有太多的帮助）\n",
    "\n",
    "titanic.Sex = titanic.Sex.map({'male':1, 'female':0})  # 将字符型的性别变量映射为数值变量\n",
    "\n",
    "\n",
    "no_missing = titanic.loc[~titanic.Age.isnull(),]# 将数据拆分为两组，一是年龄缺失组，二是年龄非缺失组，后续基于非缺失值构建KNN模型，再对缺失组做预测\n",
    "missing = titanic.loc[titanic.Age.isnull(),]\n",
    "print(no_missing.shape, missing.shape)\n",
    "\n",
    "from sklearn import neighbors\n",
    "\n",
    "X = nomissing.columns[nomissing.columns != 'Age']   # 自变量\n",
    "\n",
    "knn = neighbors.KNeighborsRegressor()  # 构建模型\n",
    "\n",
    "knn.fit(nomissing[X], nomissing.Age)   # 模型拟合\n",
    "\n",
    "pre_age = knn.predict(missing[X])      # 预测\n",
    "pre_age"
   ]
  },
  {
   "cell_type": "code",
   "execution_count": null,
   "metadata": {},
   "outputs": [],
   "source": []
  }
 ],
 "metadata": {
  "kernelspec": {
   "display_name": "py36",
   "language": "python",
   "name": "py36"
  },
  "language_info": {
   "codemirror_mode": {
    "name": "ipython",
    "version": 3
   },
   "file_extension": ".py",
   "mimetype": "text/x-python",
   "name": "python",
   "nbconvert_exporter": "python",
   "pygments_lexer": "ipython3",
   "version": "3.6.7"
  }
 },
 "nbformat": 4,
 "nbformat_minor": 2
}
