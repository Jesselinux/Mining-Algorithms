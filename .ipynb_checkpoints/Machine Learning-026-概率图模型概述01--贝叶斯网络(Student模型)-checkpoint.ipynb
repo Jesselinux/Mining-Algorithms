{
 "cells": [
  {
   "cell_type": "code",
   "execution_count": 1,
   "metadata": {},
   "outputs": [
    {
     "data": {
      "text/plain": [
       "True"
      ]
     },
     "execution_count": 1,
     "metadata": {},
     "output_type": "execute_result"
    }
   ],
   "source": [
    "from pgmpy.models import BayesianModel\n",
    "from pgmpy.factors.discrete import TabularCPD\n",
    "\n",
    "# 通过边来定义贝叶斯模型\n",
    "model = BayesianModel([('D', 'G'), ('I', 'G'), ('G', 'L'), ('I', 'S')])\n",
    "\n",
    "# 定义条件概率分布\n",
    "cpd_d = TabularCPD(variable='D', variable_card=2, values=[[0.6, 0.4]])\n",
    "cpd_i = TabularCPD(variable='I', variable_card=2, values=[[0.7, 0.3]])\n",
    "\n",
    "# variable：变量\n",
    "# variable_card：基数\n",
    "# values：变量值\n",
    "# evidence：\n",
    "cpd_g = TabularCPD(variable='G', variable_card=3, \n",
    "                   values=[[0.3, 0.05, 0.9,  0.5],\n",
    "                           [0.4, 0.25, 0.08, 0.3],\n",
    "                           [0.3, 0.7,  0.02, 0.2]],\n",
    "                  evidence=['I', 'D'],\n",
    "                  evidence_card=[2, 2])\n",
    "\n",
    "cpd_l = TabularCPD(variable='L', variable_card=2, \n",
    "                   values=[[0.1, 0.4, 0.99],\n",
    "                           [0.9, 0.6, 0.01]],\n",
    "                   evidence=['G'],\n",
    "                   evidence_card=[3])\n",
    "\n",
    "cpd_s = TabularCPD(variable='S', variable_card=2,\n",
    "                   values=[[0.95, 0.2],\n",
    "                           [0.05, 0.8]],\n",
    "                   evidence=['I'],\n",
    "                   evidence_card=[2])\n",
    "\n",
    "# 将有向无环图与条件概率分布表关联\n",
    "model.add_cpds(cpd_d, cpd_i, cpd_g, cpd_l, cpd_s)\n",
    "\n",
    "# 验证模型：检查网络结构和CPD，并验证CPD是否正确定义和总和为1\n",
    "model.check_model()"
   ]
  },
  {
   "cell_type": "code",
   "execution_count": 2,
   "metadata": {},
   "outputs": [
    {
     "data": {
      "text/plain": [
       "[<TabularCPD representing P(D:2) at 0x7f20c84f3fd0>,\n",
       " <TabularCPD representing P(I:2) at 0x7f20c84f5080>,\n",
       " <TabularCPD representing P(G:3 | I:2, D:2) at 0x7f20c84f51d0>,\n",
       " <TabularCPD representing P(L:2 | G:3) at 0x7f20c84f5128>,\n",
       " <TabularCPD representing P(S:2 | I:2) at 0x7f20c8268668>]"
      ]
     },
     "execution_count": 2,
     "metadata": {},
     "output_type": "execute_result"
    }
   ],
   "source": [
    "model.get_cpds()  # 获取概率图模型"
   ]
  },
  {
   "cell_type": "code",
   "execution_count": 3,
   "metadata": {},
   "outputs": [
    {
     "name": "stdout",
     "output_type": "stream",
     "text": [
      "+-----+-----+------+------+-----+\n",
      "| I   | I_0 | I_0  | I_1  | I_1 |\n",
      "+-----+-----+------+------+-----+\n",
      "| D   | D_0 | D_1  | D_0  | D_1 |\n",
      "+-----+-----+------+------+-----+\n",
      "| G_0 | 0.3 | 0.05 | 0.9  | 0.5 |\n",
      "+-----+-----+------+------+-----+\n",
      "| G_1 | 0.4 | 0.25 | 0.08 | 0.3 |\n",
      "+-----+-----+------+------+-----+\n",
      "| G_2 | 0.3 | 0.7  | 0.02 | 0.2 |\n",
      "+-----+-----+------+------+-----+\n"
     ]
    }
   ],
   "source": [
    "print(model.get_cpds('G'))   # 获取结点G的概率表"
   ]
  },
  {
   "cell_type": "code",
   "execution_count": 4,
   "metadata": {},
   "outputs": [
    {
     "data": {
      "text/plain": [
       "3"
      ]
     },
     "execution_count": 4,
     "metadata": {},
     "output_type": "execute_result"
    }
   ],
   "source": [
    "model.get_cardinality('G')   # 获取结点G的基数"
   ]
  },
  {
   "cell_type": "code",
   "execution_count": 5,
   "metadata": {},
   "outputs": [
    {
     "data": {
      "text/plain": [
       "(D _|_ I, S)\n",
       "(I _|_ D)\n",
       "(S _|_ D, G, L | I)\n",
       "(G _|_ S | D, I)\n",
       "(L _|_ D, I, S | G)"
      ]
     },
     "execution_count": 5,
     "metadata": {},
     "output_type": "execute_result"
    }
   ],
   "source": [
    "model.local_independencies(['D', 'I', 'S', 'G', 'L'])    # 获取整个贝叶斯网络的局部依赖"
   ]
  },
  {
   "cell_type": "code",
   "execution_count": 6,
   "metadata": {},
   "outputs": [
    {
     "name": "stdout",
     "output_type": "stream",
     "text": [
      "+-----+----------+\n",
      "| G   |   phi(G) |\n",
      "+=====+==========+\n",
      "| G_0 |   0.3620 |\n",
      "+-----+----------+\n",
      "| G_1 |   0.2884 |\n",
      "+-----+----------+\n",
      "| G_2 |   0.3496 |\n",
      "+-----+----------+\n"
     ]
    },
    {
     "name": "stderr",
     "output_type": "stream",
     "text": [
      "/home/jesse/anaconda3/envs/py36/lib/python3.6/site-packages/pgmpy/factors/discrete/DiscreteFactor.py:586: FutureWarning: Using a non-tuple sequence for multidimensional indexing is deprecated; use `arr[tuple(seq)]` instead of `arr[seq]`. In the future this will be interpreted as an array index, `arr[np.array(seq)]`, which will result either in an error or a different result.\n",
      "  phi.values = phi.values[slice_]\n",
      "/home/jesse/anaconda3/envs/py36/lib/python3.6/site-packages/pgmpy/factors/discrete/DiscreteFactor.py:598: FutureWarning: Using a non-tuple sequence for multidimensional indexing is deprecated; use `arr[tuple(seq)]` instead of `arr[seq]`. In the future this will be interpreted as an array index, `arr[np.array(seq)]`, which will result either in an error or a different result.\n",
      "  phi1.values = phi1.values[slice_]\n"
     ]
    }
   ],
   "source": [
    "# 变量消除:\n",
    "\n",
    "from pgmpy.inference import VariableElimination\n",
    "infer = VariableElimination(model)\n",
    "print(infer.query(['G']) ['G'])"
   ]
  },
  {
   "cell_type": "code",
   "execution_count": 7,
   "metadata": {},
   "outputs": [
    {
     "name": "stdout",
     "output_type": "stream",
     "text": [
      "+-----+----------+\n",
      "| G   |   phi(G) |\n",
      "+=====+==========+\n",
      "| G_0 |   0.9000 |\n",
      "+-----+----------+\n",
      "| G_1 |   0.0800 |\n",
      "+-----+----------+\n",
      "| G_2 |   0.0200 |\n",
      "+-----+----------+\n"
     ]
    }
   ],
   "source": [
    "print(infer.query(['G'], evidence={'D': 0, 'I': 1}) ['G'])  # 计算出条件分布概率"
   ]
  },
  {
   "cell_type": "code",
   "execution_count": 15,
   "metadata": {},
   "outputs": [
    {
     "data": {
      "text/plain": [
       "{'L': 1, 'I': 0}"
      ]
     },
     "execution_count": 15,
     "metadata": {},
     "output_type": "execute_result"
    }
   ],
   "source": [
    "# 新数据节点值的预测跟计算条件概率非常相似，我们需要查询预测变量的其他全部特征。困难在于通过分布概率去代替更多可能的变量状态\n",
    "\n",
    "infer.map_query(['L','I'])"
   ]
  },
  {
   "cell_type": "code",
   "execution_count": null,
   "metadata": {},
   "outputs": [],
   "source": []
  }
 ],
 "metadata": {
  "kernelspec": {
   "display_name": "py36",
   "language": "python",
   "name": "py36"
  },
  "language_info": {
   "codemirror_mode": {
    "name": "ipython",
    "version": 3
   },
   "file_extension": ".py",
   "mimetype": "text/x-python",
   "name": "python",
   "nbconvert_exporter": "python",
   "pygments_lexer": "ipython3",
   "version": "3.6.7"
  }
 },
 "nbformat": 4,
 "nbformat_minor": 2
}
