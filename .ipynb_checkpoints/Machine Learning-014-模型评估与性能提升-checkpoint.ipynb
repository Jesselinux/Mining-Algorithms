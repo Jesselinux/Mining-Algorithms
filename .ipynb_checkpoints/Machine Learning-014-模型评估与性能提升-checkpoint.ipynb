{
 "cells": [
  {
   "cell_type": "code",
   "execution_count": 1,
   "metadata": {},
   "outputs": [
    {
     "name": "stdout",
     "output_type": "stream",
     "text": [
      "最优参数列表: {'C': 1, 'kernel': 'rbf'} ; score值： 0.9833333333333333\n",
      "['mean_fit_time', 'mean_score_time', 'mean_test_score', 'mean_train_score', 'param_C', 'param_kernel', 'params', 'rank_test_score', 'split0_test_score', 'split0_train_score', 'split1_test_score', 'split1_train_score', 'split2_test_score', 'split2_train_score', 'split3_test_score', 'split3_train_score', 'split4_test_score', 'split4_train_score', 'std_fit_time', 'std_score_time', 'std_test_score', 'std_train_score']\n"
     ]
    }
   ],
   "source": [
    "'''一、网格搜索、模型持久化：\n",
    "code：\n",
    "  1,GridSearchCV:网格搜索；\n",
    "  2,模型持久化(模型保存至本地)；\n",
    "  3,SMOTE：利用合成数据（插值）方法，调整sample数量；\n",
    "  4，模型持久化：将经过清洗和特征工程后的数据存入本地，以便后续进一步建模分析；\n",
    "  5，经过下采样后的数据训练结果。'''\n",
    "\n",
    "from sklearn import svm, datasets\n",
    "from sklearn.model_selection import GridSearchCV\n",
    "from sklearn.model_selection  import train_test_split\n",
    "import warnings\n",
    "warnings.filterwarnings(\"ignore\")\n",
    "\n",
    "\n",
    "# 1,GridSearchCV:网格搜索\n",
    "iris = datasets.load_iris()\n",
    "x_train, x_test, y_train, y_test = train_test_split(iris.data, iris.target, test_size=0.2, random_state=16)\n",
    "\n",
    "parameters = {'kernel':('linear', 'rbf'), 'C':[1, 10]}\n",
    "svc = svm.SVC(gamma=\"scale\")\n",
    "clf = GridSearchCV(svc, parameters, cv=5)   # cv=5：5折交叉验证\n",
    "clf.fit(x_train, y_train)\n",
    "print(\"最优参数列表:\", clf.best_params_,';', \"score值：\",clf.best_score_)\n",
    "print(sorted(clf.cv_results_.keys()))"
   ]
  },
  {
   "cell_type": "code",
   "execution_count": 2,
   "metadata": {},
   "outputs": [
    {
     "name": "stdout",
     "output_type": "stream",
     "text": [
      "[1 0 1 2 1 0 1 0 0 1 1 2 2 0 2 1 0 0 1 1 0 0 2 2 1 1 1 2 2 0]\n"
     ]
    }
   ],
   "source": [
    "# 2,模型持久化(模型保存至本地):\n",
    "from sklearn.externals import joblib\n",
    "\n",
    "best_clf_model = clf.best_estimator_\n",
    "joblib.dump(best_clf_model, \"../OutPut/clf.model\")\n",
    "best_clf_model = joblib.load(\"../OutPut/clf.model\") # 加载模型就可以用，无需重新训练\n",
    "print(best_clf_model.predict(x_test))"
   ]
  },
  {
   "cell_type": "code",
   "execution_count": 3,
   "metadata": {},
   "outputs": [
    {
     "name": "stdout",
     "output_type": "stream",
     "text": [
      "一、网格搜索、模型持久化：\n",
      "code：\n",
      "  1,GridSearchCV:网格搜索；\n",
      "  2,模型持久化(模型保存至本地)；\n",
      "  3,SMOTE：利用合成数据（插值）方法，调整sample数量；\n",
      "  4，模型持久化：将经过清洗和特征工程后的数据存入本地，以便后续进一步建模分析；\n",
      "  5，经过下采样后的数据训练结果。\n"
     ]
    },
    {
     "data": {
      "text/plain": [
       "<Figure size 640x480 with 2 Axes>"
      ]
     },
     "metadata": {},
     "output_type": "display_data"
    }
   ],
   "source": [
    "# 3,SMOTE：利用合成数据（插值）方法，调整sample数量\n",
    "import matplotlib.pyplot as plt\n",
    "from sklearn.datasets import make_classification\n",
    "from sklearn.decomposition import PCA\n",
    "\n",
    "from imblearn.combine import SMOTETomek\n",
    "\n",
    "print(__doc__)\n",
    "\n",
    "X, y = make_classification(n_classes=2, class_sep=2, weights=[0.1, 0.9],  # 生成数据\n",
    "                           n_informative=3, n_redundant=1, flip_y=0,\n",
    "                           n_features=20, n_clusters_per_class=1,\n",
    "                           n_samples=100, random_state=10)\n",
    "\n",
    "pca = PCA(n_components=2)  # Instanciate a PCA object for the sake of easy visualisation\n",
    "X_vis = pca.fit_transform(X)   # Fit and transform x to visualise inside a 2D feature space\n",
    "\n",
    "sm = SMOTETomek()   # Apply SMOTE + Tomek links\n",
    "X_resampled, y_resampled = sm.fit_sample(X, y)\n",
    "X_res_vis = pca.transform(X_resampled)\n",
    "\n",
    "f, (ax1, ax2) = plt.subplots(1, 2)   # Two subplots, unpack the axes array immediately\n",
    "\n",
    "c0 = ax1.scatter(X_vis[y == 0, 0], X_vis[y == 0, 1], label=\"Class #0\",\n",
    "                 alpha=0.5)\n",
    "c1 = ax1.scatter(X_vis[y == 1, 0], X_vis[y == 1, 1], label=\"Class #1\",\n",
    "                 alpha=0.5)\n",
    "ax1.set_title('Original set')\n",
    "\n",
    "ax2.scatter(X_res_vis[y_resampled == 0, 0], X_res_vis[y_resampled == 0, 1],\n",
    "            label=\"Class #0\", alpha=0.5)\n",
    "ax2.scatter(X_res_vis[y_resampled == 1, 0], X_res_vis[y_resampled == 1, 1],\n",
    "            label=\"Class #1\", alpha=0.5)\n",
    "ax2.set_title('SMOTE + Tomek')\n",
    "\n",
    "for ax in (ax1, ax2):   # make nice plotting\n",
    "    ax.spines['top'].set_visible(False)\n",
    "    ax.spines['right'].set_visible(False)\n",
    "    ax.get_xaxis().tick_bottom()\n",
    "    ax.get_yaxis().tick_left()\n",
    "    ax.spines['left'].set_position(('outward', 10))\n",
    "    ax.spines['bottom'].set_position(('outward', 10))\n",
    "    ax.set_xlim([-6, 8])\n",
    "    ax.set_ylim([-6, 6])\n",
    "\n",
    "plt.figlegend((c0, c1), ('Class #0', 'Class #1'), loc='lower center',\n",
    "              ncol=2, labelspacing=0.)\n",
    "plt.tight_layout(pad=3)\n",
    "plt.show()"
   ]
  },
  {
   "cell_type": "code",
   "execution_count": 4,
   "metadata": {},
   "outputs": [
    {
     "name": "stdout",
     "output_type": "stream",
     "text": [
      "一、网格搜索、模型持久化：\n",
      "code：\n",
      "  1,GridSearchCV:网格搜索；\n",
      "  2,模型持久化(模型保存至本地)；\n",
      "  3,SMOTE：利用合成数据（插值）方法，调整sample数量；\n",
      "  4，模型持久化：将经过清洗和特征工程后的数据存入本地，以便后续进一步建模分析；\n",
      "  5，经过下采样后的数据训练结果。\n",
      "Training class distributions summary: Counter({2: 593, 1: 584, 0: 480, 3: 377})\n",
      "Test class distributions summary: Counter({2: 394, 1: 389, 0: 319, 3: 251})\n",
      "                   pre       rec       spe        f1       geo       iba       sup\n",
      "\n",
      "          0       0.67      0.94      0.86      0.79      0.90      0.82       319\n",
      "          1       0.96      0.92      0.99      0.94      0.95      0.90       389\n",
      "          2       0.87      0.98      0.94      0.92      0.96      0.92       394\n",
      "          3       0.97      0.36      1.00      0.52      0.60      0.33       251\n",
      "\n",
      "avg / total       0.87      0.84      0.94      0.82      0.88      0.78      1353\n",
      "\n"
     ]
    }
   ],
   "source": [
    "# 4，模型持久化：将经过清洗和特征工程后的数据存入本地，以便后续进一步建模分析\n",
    "from collections import Counter\n",
    "from sklearn.datasets import fetch_20newsgroups\n",
    "from sklearn.feature_extraction.text import TfidfVectorizer\n",
    "from sklearn.naive_bayes import MultinomialNB\n",
    "from sklearn.pipeline import make_pipeline\n",
    "\n",
    "from imblearn.under_sampling import RandomUnderSampler\n",
    "from imblearn.pipeline import make_pipeline as make_pipeline_imb\n",
    "from imblearn.metrics import classification_report_imbalanced\n",
    "import pickle\n",
    "\n",
    "print(__doc__)\n",
    "\n",
    "categories = ['alt.atheism', 'talk.religion.misc',\n",
    "              'comp.graphics', 'sci.space']\n",
    "newsgroups_train = fetch_20newsgroups(subset='train',\n",
    "                                      categories=categories)\n",
    "newsgroups_test = fetch_20newsgroups(subset='test',\n",
    "                                     categories=categories)\n",
    "\n",
    "X_train, y_train, X_test, y_test = newsgroups_train.data, newsgroups_train.target, newsgroups_test.data, newsgroups_test.target\n",
    "\n",
    "print('Training class distributions summary: {}'.format(Counter(y_train)))\n",
    "print('Test class distributions summary: {}'.format(Counter(y_test)))\n",
    "\n",
    "\n",
    "with open('../OutPut/newsgroups_train.pickle','wb') as handle:   # 把数据存在pickle中\n",
    "    pickle.dump(newsgroups_train,handle)\n",
    "\n",
    "with open('../OutPut/newsgroups_test.pickle','wb') as handle:\n",
    "    pickle.dump(newsgroups_test,handle)\n",
    "    \n",
    "with open('../OutPut/newsgroups_train.pickle','rb') as handle:   # 读数据\n",
    "    newsgroups_train = pickle.load(handle)\n",
    "\n",
    "with open('../OutPut/newsgroups_test.pickle','rb') as handle:\n",
    "    newsgroups_test = pickle.load(handle)\n",
    "\n",
    "\n",
    "pipe = make_pipeline(TfidfVectorizer(),    # 原始数据类别不平衡训练结果\n",
    "                     MultinomialNB())\n",
    "pipe.fit(X_train, y_train)\n",
    "y_pred = pipe.predict(X_test)\n",
    "print(classification_report_imbalanced(y_test, y_pred))"
   ]
  },
  {
   "cell_type": "code",
   "execution_count": 5,
   "metadata": {},
   "outputs": [
    {
     "name": "stdout",
     "output_type": "stream",
     "text": [
      "                   pre       rec       spe        f1       geo       iba       sup\n",
      "\n",
      "          0       0.69      0.90      0.87      0.78      0.89      0.79       319\n",
      "          1       0.98      0.84      0.99      0.90      0.91      0.82       389\n",
      "          2       0.95      0.88      0.98      0.92      0.93      0.86       394\n",
      "          3       0.79      0.73      0.96      0.76      0.84      0.68       251\n",
      "\n",
      "avg / total       0.87      0.85      0.95      0.85      0.90      0.80      1353\n",
      "\n"
     ]
    }
   ],
   "source": [
    "# 5，经过下采样后的数据训练结果：\n",
    "pipe = make_pipeline_imb(TfidfVectorizer(),\n",
    "                         RandomUnderSampler(),\n",
    "                         MultinomialNB())\n",
    "\n",
    "pipe.fit(X_train, y_train)\n",
    "y_pred = pipe.predict(X_test)\n",
    "print(classification_report_imbalanced(y_test, y_pred))"
   ]
  },
  {
   "cell_type": "code",
   "execution_count": 6,
   "metadata": {},
   "outputs": [],
   "source": [
    "'''二、验证曲线、学习曲线、ROC曲线、准确度、精确率、召回率、F1_Score：\n",
    "code：\n",
    "  1, 建立随机森林模型；\n",
    "  2,验证曲线；\n",
    "  3,学习曲线；\n",
    "  4,ROC曲线；\n",
    "  5，计算准确度、精确率、召回率、F1_Score(综合评价指标)。'''\n",
    "\n",
    "import numpy as np\n",
    "import pandas as pd\n",
    "from sklearn.datasets import load_iris\n",
    "import matplotlib.pyplot as plt\n",
    "from sklearn.ensemble import RandomForestClassifier\n",
    "from sklearn.model_selection import validation_curve,learning_curve\n",
    "\n",
    "from sklearn.datasets import make_classification\n",
    "from sklearn.linear_model import LogisticRegression\n",
    "from sklearn.model_selection import train_test_split\n",
    "from sklearn.metrics import roc_auc_score,roc_curve\n",
    "\n",
    "from sklearn.metrics import f1_score\n",
    "from sklearn.metrics import accuracy_score\n",
    "from sklearn.metrics import precision_score, recall_score\n",
    "%matplotlib inline\n",
    "\n",
    "# 1,建立随机森林模型:\n",
    "iris_data = load_iris()\n",
    "features = iris_data.data\n",
    "labels = iris_data.target\n",
    " \n",
    "RF = RandomForestClassifier(max_depth = 8, random_state = 0)\n",
    "params_grid = np.linspace(25,200,8).astype(int)"
   ]
  },
  {
   "cell_type": "code",
   "execution_count": 7,
   "metadata": {},
   "outputs": [
    {
     "name": "stdout",
     "output_type": "stream",
     "text": [
      "######Validation Curve\n",
      "train_score\n",
      " [[1. 1. 1. 1. 1.]\n",
      " [1. 1. 1. 1. 1.]\n",
      " [1. 1. 1. 1. 1.]\n",
      " [1. 1. 1. 1. 1.]\n",
      " [1. 1. 1. 1. 1.]\n",
      " [1. 1. 1. 1. 1.]\n",
      " [1. 1. 1. 1. 1.]\n",
      " [1. 1. 1. 1. 1.]] validation_score\n",
      " [[0.96666667 0.96666667 0.9        0.96666667 1.        ]\n",
      " [0.96666667 0.96666667 0.93333333 0.93333333 1.        ]\n",
      " [0.96666667 0.96666667 0.93333333 0.93333333 1.        ]\n",
      " [0.96666667 0.96666667 0.93333333 0.96666667 1.        ]\n",
      " [0.96666667 0.96666667 0.93333333 0.93333333 1.        ]\n",
      " [0.96666667 0.96666667 0.93333333 0.93333333 1.        ]\n",
      " [0.96666667 0.96666667 0.93333333 0.93333333 1.        ]\n",
      " [0.96666667 0.96666667 0.93333333 0.93333333 1.        ]]\n"
     ]
    },
    {
     "data": {
      "image/png": "[encoded data removed]",
      "text/plain": [
       "<Figure size 432x288 with 1 Axes>"
      ]
     },
     "metadata": {
      "needs_background": "light"
     },
     "output_type": "display_data"
    }
   ],
   "source": [
    "# 2,验证曲线：\n",
    "train_scores,validation_scores = validation_curve(RF,features,labels,'n_estimators',params_grid,cv=5)  #其他参数不变，观察评估器数量对训练得分的影响\n",
    "print('######Validation Curve')\n",
    "print('train_score\\n',train_scores, 'validation_score\\n',validation_scores)\n",
    "\n",
    "plt.figure()   #可视化生成训练、验证曲线\n",
    "plt.plot(params_grid, np.average(train_scores,axis = 1),color = 'red')\n",
    "plt.plot(params_grid,np.average(validation_scores,axis = 1),color = 'black')\n",
    "plt.title('Training curve')\n",
    "plt.xlabel('number of estimator')\n",
    "plt.ylabel('accuracy')\n",
    "plt.show()  #同样的方法可以验证其他变量对训练的影响，多次操作，进行参数调整"
   ]
  },
  {
   "cell_type": "code",
   "execution_count": 8,
   "metadata": {},
   "outputs": [
    {
     "name": "stdout",
     "output_type": "stream",
     "text": [
      "150\n",
      "######Learning Curve\n",
      "train_score\n",
      " [[1.         1.         1.         1.         1.        ]\n",
      " [1.         1.         1.         1.         1.        ]\n",
      " [1.         1.         1.         0.98809524 0.98809524]\n",
      " [1.         1.         1.         0.99166667 0.99166667]] validation_score\n",
      " [[0.33333333 0.33333333 0.33333333 0.33333333 0.33333333]\n",
      " [0.66666667 0.66666667 0.66666667 0.66666667 0.66666667]\n",
      " [0.83333333 0.83333333 0.86666667 0.93333333 0.8       ]\n",
      " [0.96666667 0.96666667 0.9        0.93333333 1.        ]]\n"
     ]
    },
    {
     "data": {
      "image/png": "[encoded data removed]",
      "text/plain": [
       "<Figure size 432x288 with 1 Axes>"
      ]
     },
     "metadata": {
      "needs_background": "light"
     },
     "output_type": "display_data"
    }
   ],
   "source": [
    "# 3,学习曲线:\n",
    "print(len(features))\n",
    "size_grid = np.array([0.2,0.5,0.7,1])\n",
    "train_size,train_scores,validation_scores = learning_curve(RF,features,labels,train_sizes = size_grid, cv = 5)\n",
    "print('######Learning Curve')\n",
    "print('train_score\\n',train_scores, 'validation_score\\n',validation_scores)\n",
    "\n",
    "plt.figure()  # 学习曲线可视化\n",
    "plt.plot(size_grid,np.average(train_scores, axis = 1), color = 'red')\n",
    "plt.plot(size_grid, np.average(validation_scores, axis = 1), color = 'black')\n",
    "plt.title('Learning Curve')\n",
    "plt.xlabel('sample size')\n",
    "plt.ylabel('accuracy')\n",
    "plt.show()"
   ]
  },
  {
   "cell_type": "code",
   "execution_count": 9,
   "metadata": {},
   "outputs": [
    {
     "data": {
      "image/png": "[encoded data removed]",
      "text/plain": [
       "<Figure size 648x576 with 1 Axes>"
      ]
     },
     "metadata": {
      "needs_background": "light"
     },
     "output_type": "display_data"
    }
   ],
   "source": [
    "# 4,ROC曲线：\n",
    "X,y = make_classification(n_samples=10000,n_features=10,n_classes=2,n_informative=5)\n",
    "X_train,X_test, y_train,y_test = train_test_split(X,y, test_size=0.2,random_state=0)\n",
    "\n",
    "clf = LogisticRegression()\n",
    "clf.fit(X_train,y_train)\n",
    "\n",
    "preds = clf.predict_proba(X_test)[:,1]\n",
    "fpr,tpr,_=roc_curve(y_test,preds)\n",
    "\n",
    "df = pd.DataFrame(dict(fpr=fpr,tpr=tpr))\n",
    "\n",
    "roc_auc= roc_auc_score(y_test,preds)\n",
    "\n",
    "plt.figure(figsize=[9,8])  # 画图\n",
    "lw = 2\n",
    "plt.plot(fpr, tpr, color='orange',\n",
    "         lw=lw, label='ROC curve (area = %0.2f)' % roc_auc)\n",
    "plt.plot([0, 1], [0, 1], color='navy', lw=lw, linestyle='--')\n",
    "plt.xlim([0.0, 1.0])\n",
    "plt.ylim([0.0, 1.05])\n",
    "plt.xlabel('False Positive Rate')\n",
    "plt.ylabel('True Positive Rate')\n",
    "plt.title('Receiver operating characteristic Line')\n",
    "plt.legend(loc=\"lower right\")\n",
    "plt.show()"
   ]
  },
  {
   "cell_type": "code",
   "execution_count": 10,
   "metadata": {},
   "outputs": [
    {
     "name": "stdout",
     "output_type": "stream",
     "text": [
      "accuracy = 0.720000, precision = 0.166667, recall = 0.333333, F1_score = 0.222222 \n"
     ]
    }
   ],
   "source": [
    "# 5，计算准确度、精确率、召回率、F1_Score：\n",
    "y_true =  [0,0,0,0,0,0,0,0,0,0,0,0,0,0,0,0,1,1,1,0,0,0,0,0,0]\n",
    "y_pred =  [0,0,0,0,0,0,0,0,0,0,0,0,1,1,0,0,0,0,1,0,1,1,1,0,0]\n",
    "\n",
    "accu=accuracy_score(y_true,y_pred)        # 准确度\n",
    "prec = precision_score(y_true,y_pred)     # 精确率\n",
    "reca = recall_score(y_true,y_pred)        # 召回率\n",
    "F1_score = f1_score(y_true,y_pred)        # 综合评价指标：F1_Score\n",
    "print('accuracy = %f, precision = %f, recall = %f, F1_score = %f '% (accu, prec, reca, F1_score))"
   ]
  },
  {
   "cell_type": "code",
   "execution_count": null,
   "metadata": {},
   "outputs": [],
   "source": []
  }
 ],
 "metadata": {
  "kernelspec": {
   "display_name": "py36",
   "language": "python",
   "name": "py36"
  },
  "language_info": {
   "codemirror_mode": {
    "name": "ipython",
    "version": 3
   },
   "file_extension": ".py",
   "mimetype": "text/x-python",
   "name": "python",
   "nbconvert_exporter": "python",
   "pygments_lexer": "ipython3",
   "version": "3.6.7"
  }
 },
 "nbformat": 4,
 "nbformat_minor": 2
}
