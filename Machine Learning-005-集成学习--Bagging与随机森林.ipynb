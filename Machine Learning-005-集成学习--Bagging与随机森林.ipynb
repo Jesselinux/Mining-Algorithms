{
 "cells": [
  {
   "cell_type": "code",
   "execution_count": 1,
   "metadata": {},
   "outputs": [
    {
     "name": "stdout",
     "output_type": "stream",
     "text": [
      "1.0\n"
     ]
    },
    {
     "name": "stderr",
     "output_type": "stream",
     "text": [
      "/home/jesse/anaconda3/envs/py36/lib/python3.6/site-packages/sklearn/utils/deprecation.py:58: DeprecationWarning: Class Imputer is deprecated; Imputer was deprecated in version 0.20 and will be removed in 0.22. Import impute.SimpleImputer from sklearn instead.\n",
      "  warnings.warn(msg, category=DeprecationWarning)\n"
     ]
    }
   ],
   "source": [
    "# 1,Random forest:\n",
    "import numpy as np\n",
    "import pandas as pd\n",
    "from sklearn.ensemble import RandomForestClassifier\n",
    "from sklearn.linear_model import LinearRegression\n",
    "from sklearn.ensemble import BaggingRegressor\n",
    "from sklearn.model_selection import train_test_split\n",
    "from sklearn.decomposition import PCA\n",
    "from sklearn.preprocessing import MinMaxScaler\n",
    "from sklearn.preprocessing import Imputer\n",
    "\n",
    "data = pd.read_csv('../DataSets/risk_factors_cervical_cancer.csv')   # 加载数据\n",
    "new_data = data.replace(\"?\", np.NaN)  # 缺省值处理\n",
    "imputer = Imputer(missing_values='NaN', strategy='median')\n",
    "x_y = imputer.fit_transform(new_data)\n",
    "\n",
    "\n",
    "X_Y = pd.DataFrame(x_y)\n",
    "feature_names = data.columns\n",
    "X_Y.columns = feature_names   # 将序列index转化成现实标签。\n",
    "\n",
    "\n",
    "X = X_Y[feature_names[0:-4]]   # 划分特征：x， y\n",
    "Y = X_Y[feature_names[-4:]]\n",
    "\n",
    "X_train, X_test, Y_train, Y_test = train_test_split(X, Y, test_size=0.2, random_state=10)   # 划分训练集，测试集。\n",
    "\n",
    "\n",
    "standard_scaler = MinMaxScaler(X_train, Y_train)\n",
    "ss = MinMaxScaler()\n",
    "X_train = ss.fit_transform(X_train, Y_train)   #标准化数据\n",
    "X_test = ss.transform(X_test)\n",
    "X_train.shape\n",
    "\n",
    "pca = PCA(n_components=2)   # 降维\n",
    "X_train = pca.fit_transform(X_train)\n",
    "X_test = pca.transform(X_test)\n",
    "\n",
    "\n",
    "forest = RandomForestClassifier(n_estimators=100, criterion='gini', max_depth=1, random_state=0)\n",
    "\n",
    "forest.fit(X_train, Y_train)   # 训练模型\n",
    "y_predict = forest.predict(X_test)  # 预测\n",
    "RF_score = forest.score(X_test,y_predict)\n",
    "print(RF_score)"
   ]
  },
  {
   "cell_type": "code",
   "execution_count": 2,
   "metadata": {},
   "outputs": [
    {
     "name": "stdout",
     "output_type": "stream",
     "text": [
      "lr: 0.007463094652961896\n"
     ]
    }
   ],
   "source": [
    "# 2,构建线性回归\n",
    "\n",
    "lr = LinearRegression()\n",
    "lr.fit(X_train,Y_train)\n",
    "lr_y_test_hat = lr.predict(X_test)\n",
    "lr_score = lr.score(X_test, Y_test)\n",
    "print (\"lr:\", lr_score)"
   ]
  },
  {
   "cell_type": "code",
   "execution_count": 3,
   "metadata": {},
   "outputs": [
    {
     "name": "stdout",
     "output_type": "stream",
     "text": [
      "Bagging: -0.004246921679058051\n"
     ]
    }
   ],
   "source": [
    "# 3,构建一个Bagging的线性模型:\n",
    "\n",
    "bg = BaggingRegressor(LinearRegression(), n_estimators=100, max_samples=0.7, max_features=0.8,random_state=28)\n",
    "bg.fit(X_train, Y_train)\n",
    "bg_y_test_hat = bg.predict(X_test)\n",
    "bg_score = bg.score(X_test, Y_test)\n",
    "print (\"Bagging:\", bg_score)"
   ]
  },
  {
   "cell_type": "code",
   "execution_count": null,
   "metadata": {},
   "outputs": [],
   "source": []
  }
 ],
 "metadata": {
  "kernelspec": {
   "display_name": "py36",
   "language": "python",
   "name": "py36"
  },
  "language_info": {
   "codemirror_mode": {
    "name": "ipython",
    "version": 3
   },
   "file_extension": ".py",
   "mimetype": "text/x-python",
   "name": "python",
   "nbconvert_exporter": "python",
   "pygments_lexer": "ipython3",
   "version": "3.6.7"
  }
 },
 "nbformat": 4,
 "nbformat_minor": 2
}
